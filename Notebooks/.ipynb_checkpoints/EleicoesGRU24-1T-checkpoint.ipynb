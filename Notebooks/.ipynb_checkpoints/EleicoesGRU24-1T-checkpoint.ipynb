{
 "cells": [
  {
   "cell_type": "markdown",
   "id": "18bb0062-49ef-4099-bea7-5c2e011e8420",
   "metadata": {},
   "source": [
    "<div style=\"color: rgba(14, 90, 132, 1); vertical-align:middle; text-align: center; font-family: Montserrat;\">\n",
    "    <div style=\"font-size: 40px; font-weight: bold;\">\n",
    "        Análise Eleições Guarulhos - 1º Turno\n",
    "    </div>\n",
    "    <img src=\"https://solaris-mh8n.onrender.com/static/img/logo_solaris3.png\" align=\"middle\" width=\"30%\" height=\"30%\"/>\n",
    "    <div style=\"font-size: 20px; font-style: italic; font-family: Montserrat;\">\n",
    "        SOLARIS SISTEMAS <br /> - SS -\n",
    "    </div>\n",
    "</div>"
   ]
  },
  {
   "cell_type": "code",
   "execution_count": 1,
   "id": "1b19b0fa-4c90-4a3b-a762-c89aea7839fd",
   "metadata": {},
   "outputs": [],
   "source": [
    "import pandas as pd\n",
    "import warnings\n",
    "import os\n",
    "import plotly.graph_objects as go\n",
    "import folium\n",
    "import json\n",
    "import duckdb\n",
    "\n",
    "from folium.plugins import Draw, BeautifyIcon, MiniMap, MarkerCluster, TimestampedGeoJson, Geocoder\n",
    "from sqlalchemy import create_engine, text\n",
    "\n",
    "warnings.filterwarnings(\"ignore\")"
   ]
  },
  {
   "cell_type": "code",
   "execution_count": null,
   "id": "79c296c9-8008-484a-8544-559835b4f6d8",
   "metadata": {},
   "outputs": [],
   "source": [
    "dir_tse = 'D:/dabase_loads/tse_raw'"
   ]
  },
  {
   "cell_type": "code",
   "execution_count": null,
   "id": "7fb71e4e-117b-4400-ab3e-30d84e5f2cc7",
   "metadata": {},
   "outputs": [],
   "source": [
    "zona = pd.read_csv(os.path.join(dir_tse, 'eleitorado_local_votacao_2024.csv'), sep=';', encoding='latin1') "
   ]
  },
  {
   "cell_type": "code",
   "execution_count": null,
   "id": "c34e89cd-4751-45ef-8418-58d16d2fe6c5",
   "metadata": {},
   "outputs": [],
   "source": [
    "zona.info()"
   ]
  },
  {
   "cell_type": "code",
   "execution_count": null,
   "id": "16c18158-922a-42db-ab49-53901c46668e",
   "metadata": {},
   "outputs": [],
   "source": [
    "gru = zona.query(\"SG_UF == 'SP' and NM_MUNICIPIO == 'GUARULHOS'\")\n",
    "gru['NR_LATITUDE'] = gru['NR_LATITUDE'].astype(float)\n",
    "gru['NR_LONGITUDE'] = gru['NR_LONGITUDE'].astype(float)\n",
    "gru.head()"
   ]
  },
  {
   "cell_type": "code",
   "execution_count": null,
   "id": "9b28624e-9227-4793-a167-aeec922211fc",
   "metadata": {},
   "outputs": [],
   "source": [
    "title_html = '<h3 align=\"center\" style=\"font-size:30px;font-weight: bold;\">Indústria Automotiva em Guarulhos</h3>'\n",
    "mapa = folium.Map(location=[-23.397106352886972, -46.43988504955854], tiles=\"OpenStreetMap\", zoom_start=11, control_scale = True, scrollWheelZoom=True, dragging=True)\n",
    "mapa.get_root().html.add_child(folium.Element(title_html))"
   ]
  },
  {
   "cell_type": "code",
   "execution_count": null,
   "id": "85b3c9f7-0a41-47b1-8381-e9e949cbc71e",
   "metadata": {},
   "outputs": [],
   "source": [
    "# Camadas\n",
    "\n",
    "## Aeroporto\n",
    "f_aeroporto = 'C:\\\\py\\\\sdceti\\\\Geo\\\\GeoJson\\\\aeroporto_limite.geojson'\n",
    "aeroporto = json.load(open(f_aeroporto))\n",
    "style1 = {'fillColor': 'yellow', 'color': 'blue', 'weight': 1.0}\n",
    "folium.GeoJson(aeroporto, style_function=lambda x:style1).add_to(mapa)\n",
    "\n",
    "## Bairros\n",
    "f_bairros = 'C:\\\\py\\\\sdceti\\\\Geo\\\\GeoJson\\\\bairros_sem_aeroporto.geojson'\n",
    "bairros = json.load(open(f_bairros, encoding='utf8'))\n",
    "style2 =  {'color': 'black', 'weight': 2.0, 'fill_opacity': 0.3}\n",
    "folium.GeoJson(bairros, tooltip=folium.GeoJsonTooltip(fields=['BAIRRO1']), popup=folium.GeoJsonPopup(fields=['BAIRRO1']), style_function=lambda x:style2).add_to(mapa)"
   ]
  },
  {
   "cell_type": "code",
   "execution_count": null,
   "id": "a91762c9-e945-489f-bbd8-dcf50e3ba3da",
   "metadata": {},
   "outputs": [],
   "source": [
    "gru['NR_LATITUDE'].count()"
   ]
  },
  {
   "cell_type": "code",
   "execution_count": null,
   "id": "4daf736b-f744-46bc-9dba-925ce11c82e2",
   "metadata": {},
   "outputs": [],
   "source": [
    "%%time\n",
    "\n",
    "cor = 'blue'\n",
    "tam_bot = 3\n",
    "\n",
    "for row in gru.itertuples():\n",
    "    icon_circle = BeautifyIcon(icon_shape='circle-dot', border_color=cor, border_width=tam_bot)\n",
    "    folium.Marker(location = [row.NR_LATITUDE, row.NR_LONGITUDE], popup = '{}'.format(row.NR_ZONA), tooltip = 'ZONA: {} SEÇÃO: {} BAIRRO: {}'.format(row.NR_ZONA, row.NR_SECAO, row.NM_BAIRRO), icon = icon_circle, fill = True, fillcolor = cor, color = cor, fill_opacity=1).add_to(mapa)\n",
    "    "
   ]
  },
  {
   "cell_type": "code",
   "execution_count": null,
   "id": "74d5df92-28fc-42c9-b211-68d5bb697a02",
   "metadata": {},
   "outputs": [],
   "source": [
    "mapa"
   ]
  },
  {
   "cell_type": "code",
   "execution_count": null,
   "id": "4d8ba6d3-d1c1-4220-89d3-9f8df78631f6",
   "metadata": {},
   "outputs": [],
   "source": [
    "voto = pd.read_csv(os.path.join(dir_tse, 'votacao_partido_munzona_2024_SP.csv'), sep=';', encoding='latin1') "
   ]
  },
  {
   "cell_type": "code",
   "execution_count": null,
   "id": "c6299496-1def-4bb2-9b54-1b642c8eb9e0",
   "metadata": {},
   "outputs": [],
   "source": [
    "voto.info()"
   ]
  },
  {
   "cell_type": "code",
   "execution_count": null,
   "id": "fa86557c-97be-4d15-baa2-72e133923196",
   "metadata": {},
   "outputs": [],
   "source": [
    "voto_gru = voto.query(\"SG_UF == 'SP' and NM_MUNICIPIO == 'GUARULHOS'\")"
   ]
  },
  {
   "cell_type": "code",
   "execution_count": null,
   "id": "2d01114e-975c-4d5f-866a-24be306e65cb",
   "metadata": {},
   "outputs": [],
   "source": [
    "voto_gru.info()"
   ]
  },
  {
   "cell_type": "code",
   "execution_count": null,
   "id": "e3f817d2-93ca-4a97-8a2f-3f4224fae1d0",
   "metadata": {},
   "outputs": [],
   "source": [
    "voto_gru.head()"
   ]
  },
  {
   "cell_type": "code",
   "execution_count": null,
   "id": "322e12fd-efdb-4e94-9172-f471d8e08f1a",
   "metadata": {},
   "outputs": [],
   "source": [
    "voto_gru.groupby('DS_CARGO').DS_CARGO.count()"
   ]
  },
  {
   "cell_type": "code",
   "execution_count": null,
   "id": "75cc1c97-568c-41fb-81db-3536801f7fed",
   "metadata": {},
   "outputs": [],
   "source": [
    "voto_gru.query(\"DS_CARGO == 'Prefeito'\").iloc[0]"
   ]
  },
  {
   "cell_type": "code",
   "execution_count": null,
   "id": "a7a89976-08a5-4f6d-9894-34e5bd4f23ca",
   "metadata": {},
   "outputs": [],
   "source": [
    "voto_gru.query(\"DS_CARGO == 'Prefeito'\").groupby('NR_PARTIDO')['QT_VOTOS_NOMINAIS_VALIDOS'].sum()"
   ]
  },
  {
   "cell_type": "code",
   "execution_count": null,
   "id": "6759418a-f521-41b2-bf5d-431e0f73ac44",
   "metadata": {},
   "outputs": [],
   "source": []
  },
  {
   "cell_type": "code",
   "execution_count": 2,
   "id": "e512e891-2ee1-419c-bfdc-8e9a10226a9d",
   "metadata": {},
   "outputs": [
    {
     "name": "stdout",
     "output_type": "stream",
     "text": [
      "CPU times: total: 9.02 s\n",
      "Wall time: 8.47 s\n"
     ]
    }
   ],
   "source": [
    "%%time\n",
    "\n",
    "dir_tse = 'D:/dabase_loads/tse_raw'\n",
    "local = pd.read_csv(os.path.join(dir_tse, 'eleitorado_local_votacao_2024.csv'), sep=';', encoding='latin1') \n",
    "local.columns = local.columns.str.lower()\n",
    "voto = pd.read_csv(os.path.join(dir_tse, 'votacao_partido_munzona_2024_SP.csv'), sep=';', encoding='latin1') \n",
    "voto.columns = voto.columns.str.lower()\n",
    "\n",
    "con = duckdb.connect('d:/db/sdceti03.duckdb')\n",
    "con.sql('create table tse.local as select * from local')\n",
    "con.sql('create table tse.voto as select * from voto')"
   ]
  },
  {
   "cell_type": "code",
   "execution_count": null,
   "id": "a787357d-93cd-4a24-b154-5c103b2178b7",
   "metadata": {},
   "outputs": [],
   "source": []
  }
 ],
 "metadata": {
  "kernelspec": {
   "display_name": "Python 3 (ipykernel)",
   "language": "python",
   "name": "python3"
  },
  "language_info": {
   "codemirror_mode": {
    "name": "ipython",
    "version": 3
   },
   "file_extension": ".py",
   "mimetype": "text/x-python",
   "name": "python",
   "nbconvert_exporter": "python",
   "pygments_lexer": "ipython3",
   "version": "3.12.2"
  }
 },
 "nbformat": 4,
 "nbformat_minor": 5
}
