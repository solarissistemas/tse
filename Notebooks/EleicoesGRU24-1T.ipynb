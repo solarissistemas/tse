{
 "cells": [
  {
   "cell_type": "markdown",
   "id": "18bb0062-49ef-4099-bea7-5c2e011e8420",
   "metadata": {},
   "source": [
    "<div style=\"color: rgba(14, 90, 132, 1); vertical-align:middle; text-align: center; font-family: Montserrat;\">\n",
    "    <div style=\"font-size: 40px; font-weight: bold;\">\n",
    "        Análise Eleições Guarulhos - 1º Turno\n",
    "    </div>\n",
    "    <img src=\"https://solaris-mh8n.onrender.com/static/img/logo_solaris3.png\" align=\"middle\" width=\"30%\" height=\"30%\"/>\n",
    "    <div style=\"font-size: 20px; font-style: italic; font-family: Montserrat;\">\n",
    "        SOLARIS SISTEMAS <br /> - SS -\n",
    "    </div>\n",
    "</div>"
   ]
  },
  {
   "cell_type": "code",
   "execution_count": 1,
   "id": "1b19b0fa-4c90-4a3b-a762-c89aea7839fd",
   "metadata": {},
   "outputs": [],
   "source": [
    "import pandas as pd\n",
    "import warnings\n",
    "import os\n",
    "import plotly.graph_objects as go\n",
    "import folium\n",
    "import json\n",
    "import duckdb\n",
    "\n",
    "from folium.plugins import Draw, BeautifyIcon, MiniMap, MarkerCluster, TimestampedGeoJson, Geocoder\n",
    "from sqlalchemy import create_engine, text\n",
    "\n",
    "warnings.filterwarnings(\"ignore\")"
   ]
  },
  {
   "cell_type": "code",
   "execution_count": 2,
   "id": "79c296c9-8008-484a-8544-559835b4f6d8",
   "metadata": {},
   "outputs": [],
   "source": [
    "dir_tse = 'D:/dabase_loads/tse_raw'"
   ]
  },
  {
   "cell_type": "code",
   "execution_count": 3,
   "id": "7fb71e4e-117b-4400-ab3e-30d84e5f2cc7",
   "metadata": {},
   "outputs": [],
   "source": [
    "zona = pd.read_csv(os.path.join(dir_tse, 'eleitorado_local_votacao_2024.csv'), sep=';', encoding='latin1') "
   ]
  },
  {
   "cell_type": "code",
   "execution_count": 4,
   "id": "c34e89cd-4751-45ef-8418-58d16d2fe6c5",
   "metadata": {},
   "outputs": [
    {
     "name": "stdout",
     "output_type": "stream",
     "text": [
      "<class 'pandas.core.frame.DataFrame'>\n",
      "RangeIndex: 600374 entries, 0 to 600373\n",
      "Data columns (total 41 columns):\n",
      " #   Column                        Non-Null Count   Dtype  \n",
      "---  ------                        --------------   -----  \n",
      " 0   DT_GERACAO                    600374 non-null  object \n",
      " 1   HH_GERACAO                    600374 non-null  object \n",
      " 2   AA_ELEICAO                    600374 non-null  int64  \n",
      " 3   DT_ELEICAO                    600374 non-null  object \n",
      " 4   DS_ELEICAO                    600374 non-null  object \n",
      " 5   NR_TURNO                      600374 non-null  int64  \n",
      " 6   SG_UF                         600374 non-null  object \n",
      " 7   CD_MUNICIPIO                  600374 non-null  int64  \n",
      " 8   NM_MUNICIPIO                  600374 non-null  object \n",
      " 9   NR_ZONA                       600374 non-null  int64  \n",
      " 10  NR_SECAO                      600374 non-null  int64  \n",
      " 11  CD_TIPO_SECAO_AGREGADA        600374 non-null  int64  \n",
      " 12  DS_TIPO_SECAO_AGREGADA        600374 non-null  object \n",
      " 13  NR_SECAO_PRINCIPAL            600374 non-null  int64  \n",
      " 14  NR_LOCAL_VOTACAO              600374 non-null  int64  \n",
      " 15  NM_LOCAL_VOTACAO              600374 non-null  object \n",
      " 16  CD_TIPO_LOCAL                 600374 non-null  int64  \n",
      " 17  DS_TIPO_LOCAL                 600374 non-null  object \n",
      " 18  DS_ENDERECO                   600374 non-null  object \n",
      " 19  NM_BAIRRO                     600374 non-null  object \n",
      " 20  NR_CEP                        600374 non-null  int64  \n",
      " 21  NR_TELEFONE_LOCAL             600374 non-null  object \n",
      " 22  NR_LATITUDE                   600374 non-null  float64\n",
      " 23  NR_LONGITUDE                  600374 non-null  float64\n",
      " 24  CD_SITU_LOCAL_VOTACAO         600374 non-null  int64  \n",
      " 25  DS_SITU_LOCAL_VOTACAO         600374 non-null  object \n",
      " 26  CD_SITU_ZONA                  600374 non-null  int64  \n",
      " 27  DS_SITU_ZONA                  600374 non-null  object \n",
      " 28  CD_SITU_SECAO                 600374 non-null  int64  \n",
      " 29  DS_SITU_SECAO                 600374 non-null  object \n",
      " 30  CD_SITU_LOCALIDADE            600374 non-null  int64  \n",
      " 31  DS_SITU_LOCALIDADE            600374 non-null  object \n",
      " 32  CD_SITU_SECAO_ACESSIBILIDADE  600374 non-null  int64  \n",
      " 33  DS_SITU_SECAO_ACESSIBILIDADE  600374 non-null  object \n",
      " 34  QT_ELEITOR_SECAO              600374 non-null  int64  \n",
      " 35  QT_ELEITOR_ELEICAO_FEDERAL    600374 non-null  int64  \n",
      " 36  QT_ELEITOR_ELEICAO_ESTADUAL   600374 non-null  int64  \n",
      " 37  QT_ELEITOR_ELEICAO_MUNICIPAL  600374 non-null  int64  \n",
      " 38  NR_LOCAL_VOTACAO_ORIGINAL     600374 non-null  int64  \n",
      " 39  NM_LOCAL_VOTACAO_ORIGINAL     600374 non-null  object \n",
      " 40  DS_ENDERECO_LOCVT_ORIGINAL    600374 non-null  object \n",
      "dtypes: float64(2), int64(20), object(19)\n",
      "memory usage: 187.8+ MB\n"
     ]
    }
   ],
   "source": [
    "zona.info()"
   ]
  },
  {
   "cell_type": "code",
   "execution_count": 5,
   "id": "16c18158-922a-42db-ab49-53901c46668e",
   "metadata": {},
   "outputs": [
    {
     "data": {
      "text/html": [
       "<div>\n",
       "<style scoped>\n",
       "    .dataframe tbody tr th:only-of-type {\n",
       "        vertical-align: middle;\n",
       "    }\n",
       "\n",
       "    .dataframe tbody tr th {\n",
       "        vertical-align: top;\n",
       "    }\n",
       "\n",
       "    .dataframe thead th {\n",
       "        text-align: right;\n",
       "    }\n",
       "</style>\n",
       "<table border=\"1\" class=\"dataframe\">\n",
       "  <thead>\n",
       "    <tr style=\"text-align: right;\">\n",
       "      <th></th>\n",
       "      <th>DT_GERACAO</th>\n",
       "      <th>HH_GERACAO</th>\n",
       "      <th>AA_ELEICAO</th>\n",
       "      <th>DT_ELEICAO</th>\n",
       "      <th>DS_ELEICAO</th>\n",
       "      <th>NR_TURNO</th>\n",
       "      <th>SG_UF</th>\n",
       "      <th>CD_MUNICIPIO</th>\n",
       "      <th>NM_MUNICIPIO</th>\n",
       "      <th>NR_ZONA</th>\n",
       "      <th>...</th>\n",
       "      <th>DS_SITU_LOCALIDADE</th>\n",
       "      <th>CD_SITU_SECAO_ACESSIBILIDADE</th>\n",
       "      <th>DS_SITU_SECAO_ACESSIBILIDADE</th>\n",
       "      <th>QT_ELEITOR_SECAO</th>\n",
       "      <th>QT_ELEITOR_ELEICAO_FEDERAL</th>\n",
       "      <th>QT_ELEITOR_ELEICAO_ESTADUAL</th>\n",
       "      <th>QT_ELEITOR_ELEICAO_MUNICIPAL</th>\n",
       "      <th>NR_LOCAL_VOTACAO_ORIGINAL</th>\n",
       "      <th>NM_LOCAL_VOTACAO_ORIGINAL</th>\n",
       "      <th>DS_ENDERECO_LOCVT_ORIGINAL</th>\n",
       "    </tr>\n",
       "  </thead>\n",
       "  <tbody>\n",
       "    <tr>\n",
       "      <th>13985</th>\n",
       "      <td>10/10/2024</td>\n",
       "      <td>02:00:50</td>\n",
       "      <td>2024</td>\n",
       "      <td>06/10/2024</td>\n",
       "      <td>1º Turno</td>\n",
       "      <td>1</td>\n",
       "      <td>SP</td>\n",
       "      <td>64777</td>\n",
       "      <td>GUARULHOS</td>\n",
       "      <td>394</td>\n",
       "      <td>...</td>\n",
       "      <td>Ativo</td>\n",
       "      <td>0</td>\n",
       "      <td>Sem acessibilidade</td>\n",
       "      <td>387</td>\n",
       "      <td>0</td>\n",
       "      <td>0</td>\n",
       "      <td>385</td>\n",
       "      <td>1414</td>\n",
       "      <td>EE. PARQUE SANTOS DUMONT</td>\n",
       "      <td>RUA OLHO D'ÁGUA DOS BORGES, 75</td>\n",
       "    </tr>\n",
       "    <tr>\n",
       "      <th>13986</th>\n",
       "      <td>10/10/2024</td>\n",
       "      <td>02:00:50</td>\n",
       "      <td>2024</td>\n",
       "      <td>06/10/2024</td>\n",
       "      <td>1º Turno</td>\n",
       "      <td>1</td>\n",
       "      <td>SP</td>\n",
       "      <td>64777</td>\n",
       "      <td>GUARULHOS</td>\n",
       "      <td>278</td>\n",
       "      <td>...</td>\n",
       "      <td>Ativo</td>\n",
       "      <td>1</td>\n",
       "      <td>Com acessibilidade</td>\n",
       "      <td>345</td>\n",
       "      <td>0</td>\n",
       "      <td>0</td>\n",
       "      <td>345</td>\n",
       "      <td>2054</td>\n",
       "      <td>COLEGIO GUILHERME DE ALMEIDA</td>\n",
       "      <td>AVENIDA EMÍLIO RIBAS, 855</td>\n",
       "    </tr>\n",
       "    <tr>\n",
       "      <th>13989</th>\n",
       "      <td>10/10/2024</td>\n",
       "      <td>02:00:50</td>\n",
       "      <td>2024</td>\n",
       "      <td>06/10/2024</td>\n",
       "      <td>1º Turno</td>\n",
       "      <td>1</td>\n",
       "      <td>SP</td>\n",
       "      <td>64777</td>\n",
       "      <td>GUARULHOS</td>\n",
       "      <td>176</td>\n",
       "      <td>...</td>\n",
       "      <td>Ativo</td>\n",
       "      <td>0</td>\n",
       "      <td>Sem acessibilidade</td>\n",
       "      <td>349</td>\n",
       "      <td>0</td>\n",
       "      <td>0</td>\n",
       "      <td>349</td>\n",
       "      <td>1961</td>\n",
       "      <td>E.E. LYDIA KITZ MOREIRA</td>\n",
       "      <td>RUA DOREZOPOLIS, 294</td>\n",
       "    </tr>\n",
       "    <tr>\n",
       "      <th>13991</th>\n",
       "      <td>10/10/2024</td>\n",
       "      <td>02:00:50</td>\n",
       "      <td>2024</td>\n",
       "      <td>06/10/2024</td>\n",
       "      <td>1º Turno</td>\n",
       "      <td>1</td>\n",
       "      <td>SP</td>\n",
       "      <td>64777</td>\n",
       "      <td>GUARULHOS</td>\n",
       "      <td>185</td>\n",
       "      <td>...</td>\n",
       "      <td>Ativo</td>\n",
       "      <td>0</td>\n",
       "      <td>Sem acessibilidade</td>\n",
       "      <td>385</td>\n",
       "      <td>0</td>\n",
       "      <td>0</td>\n",
       "      <td>385</td>\n",
       "      <td>1171</td>\n",
       "      <td>EE. PROFESSOR MÁRIO NAKATA</td>\n",
       "      <td>RUA EURACHIO MAURICIO, SN</td>\n",
       "    </tr>\n",
       "    <tr>\n",
       "      <th>13992</th>\n",
       "      <td>10/10/2024</td>\n",
       "      <td>02:00:50</td>\n",
       "      <td>2024</td>\n",
       "      <td>06/10/2024</td>\n",
       "      <td>1º Turno</td>\n",
       "      <td>1</td>\n",
       "      <td>SP</td>\n",
       "      <td>64777</td>\n",
       "      <td>GUARULHOS</td>\n",
       "      <td>278</td>\n",
       "      <td>...</td>\n",
       "      <td>Ativo</td>\n",
       "      <td>0</td>\n",
       "      <td>Sem acessibilidade</td>\n",
       "      <td>270</td>\n",
       "      <td>0</td>\n",
       "      <td>0</td>\n",
       "      <td>271</td>\n",
       "      <td>1155</td>\n",
       "      <td>EE. PROFESSOR ENNIO CHIESA</td>\n",
       "      <td>RUA MARIANO MANZONE, 88</td>\n",
       "    </tr>\n",
       "  </tbody>\n",
       "</table>\n",
       "<p>5 rows × 41 columns</p>\n",
       "</div>"
      ],
      "text/plain": [
       "       DT_GERACAO HH_GERACAO  AA_ELEICAO  DT_ELEICAO DS_ELEICAO  NR_TURNO  \\\n",
       "13985  10/10/2024   02:00:50        2024  06/10/2024   1º Turno         1   \n",
       "13986  10/10/2024   02:00:50        2024  06/10/2024   1º Turno         1   \n",
       "13989  10/10/2024   02:00:50        2024  06/10/2024   1º Turno         1   \n",
       "13991  10/10/2024   02:00:50        2024  06/10/2024   1º Turno         1   \n",
       "13992  10/10/2024   02:00:50        2024  06/10/2024   1º Turno         1   \n",
       "\n",
       "      SG_UF  CD_MUNICIPIO NM_MUNICIPIO  NR_ZONA  ...  DS_SITU_LOCALIDADE  \\\n",
       "13985    SP         64777    GUARULHOS      394  ...               Ativo   \n",
       "13986    SP         64777    GUARULHOS      278  ...               Ativo   \n",
       "13989    SP         64777    GUARULHOS      176  ...               Ativo   \n",
       "13991    SP         64777    GUARULHOS      185  ...               Ativo   \n",
       "13992    SP         64777    GUARULHOS      278  ...               Ativo   \n",
       "\n",
       "       CD_SITU_SECAO_ACESSIBILIDADE DS_SITU_SECAO_ACESSIBILIDADE  \\\n",
       "13985                             0           Sem acessibilidade   \n",
       "13986                             1           Com acessibilidade   \n",
       "13989                             0           Sem acessibilidade   \n",
       "13991                             0           Sem acessibilidade   \n",
       "13992                             0           Sem acessibilidade   \n",
       "\n",
       "       QT_ELEITOR_SECAO  QT_ELEITOR_ELEICAO_FEDERAL  \\\n",
       "13985               387                           0   \n",
       "13986               345                           0   \n",
       "13989               349                           0   \n",
       "13991               385                           0   \n",
       "13992               270                           0   \n",
       "\n",
       "      QT_ELEITOR_ELEICAO_ESTADUAL  QT_ELEITOR_ELEICAO_MUNICIPAL  \\\n",
       "13985                           0                           385   \n",
       "13986                           0                           345   \n",
       "13989                           0                           349   \n",
       "13991                           0                           385   \n",
       "13992                           0                           271   \n",
       "\n",
       "      NR_LOCAL_VOTACAO_ORIGINAL     NM_LOCAL_VOTACAO_ORIGINAL  \\\n",
       "13985                      1414      EE. PARQUE SANTOS DUMONT   \n",
       "13986                      2054  COLEGIO GUILHERME DE ALMEIDA   \n",
       "13989                      1961       E.E. LYDIA KITZ MOREIRA   \n",
       "13991                      1171    EE. PROFESSOR MÁRIO NAKATA   \n",
       "13992                      1155    EE. PROFESSOR ENNIO CHIESA   \n",
       "\n",
       "           DS_ENDERECO_LOCVT_ORIGINAL  \n",
       "13985  RUA OLHO D'ÁGUA DOS BORGES, 75  \n",
       "13986       AVENIDA EMÍLIO RIBAS, 855  \n",
       "13989            RUA DOREZOPOLIS, 294  \n",
       "13991       RUA EURACHIO MAURICIO, SN  \n",
       "13992         RUA MARIANO MANZONE, 88  \n",
       "\n",
       "[5 rows x 41 columns]"
      ]
     },
     "execution_count": 5,
     "metadata": {},
     "output_type": "execute_result"
    }
   ],
   "source": [
    "gru = zona.query(\"SG_UF == 'SP' and NM_MUNICIPIO == 'GUARULHOS'\")\n",
    "gru['NR_LATITUDE'] = gru['NR_LATITUDE'].astype(float)\n",
    "gru['NR_LONGITUDE'] = gru['NR_LONGITUDE'].astype(float)\n",
    "gru.head()"
   ]
  },
  {
   "cell_type": "code",
   "execution_count": 6,
   "id": "9b28624e-9227-4793-a167-aeec922211fc",
   "metadata": {},
   "outputs": [
    {
     "data": {
      "text/plain": [
       "<branca.element.Element at 0x2b4c5e83650>"
      ]
     },
     "execution_count": 6,
     "metadata": {},
     "output_type": "execute_result"
    }
   ],
   "source": [
    "title_html = '<h3 align=\"center\" style=\"font-size:30px;font-weight: bold;\">ZONAS ELEITORAIS em Guarulhos</h3>'\n",
    "mapa = folium.Map(location=[-23.397106352886972, -46.43988504955854], tiles=\"OpenStreetMap\", zoom_start=11, control_scale = True, scrollWheelZoom=True, dragging=True)\n",
    "mapa.get_root().html.add_child(folium.Element(title_html))"
   ]
  },
  {
   "cell_type": "code",
   "execution_count": 7,
   "id": "85b3c9f7-0a41-47b1-8381-e9e949cbc71e",
   "metadata": {},
   "outputs": [
    {
     "data": {
      "text/plain": [
       "<folium.features.GeoJson at 0x2b4d9744b60>"
      ]
     },
     "execution_count": 7,
     "metadata": {},
     "output_type": "execute_result"
    }
   ],
   "source": [
    "# Camadas\n",
    "\n",
    "## Aeroporto\n",
    "f_aeroporto = 'C:\\\\py\\\\sdceti\\\\Geo\\\\GeoJson\\\\aeroporto_limite.geojson'\n",
    "aeroporto = json.load(open(f_aeroporto))\n",
    "style1 = {'fillColor': 'yellow', 'color': 'blue', 'weight': 1.0}\n",
    "folium.GeoJson(aeroporto, style_function=lambda x:style1).add_to(mapa)\n",
    "\n",
    "## Bairros\n",
    "f_bairros = 'C:\\\\py\\\\sdceti\\\\Geo\\\\GeoJson\\\\bairros_sem_aeroporto.geojson'\n",
    "bairros = json.load(open(f_bairros, encoding='utf8'))\n",
    "style2 =  {'color': 'black', 'weight': 2.0, 'fill_opacity': 0.3}\n",
    "folium.GeoJson(bairros, tooltip=folium.GeoJsonTooltip(fields=['BAIRRO1']), popup=folium.GeoJsonPopup(fields=['BAIRRO1']), style_function=lambda x:style2).add_to(mapa)"
   ]
  },
  {
   "cell_type": "code",
   "execution_count": null,
   "id": "a91762c9-e945-489f-bbd8-dcf50e3ba3da",
   "metadata": {},
   "outputs": [],
   "source": [
    "gru['NR_LATITUDE'].count()"
   ]
  },
  {
   "cell_type": "code",
   "execution_count": 8,
   "id": "a1044b70-34d6-48b0-9c74-46448e1f313b",
   "metadata": {},
   "outputs": [
    {
     "data": {
      "text/plain": [
       "<pandas.core.groupby.generic.DataFrameGroupBy object at 0x000002B4D4010440>"
      ]
     },
     "execution_count": 8,
     "metadata": {},
     "output_type": "execute_result"
    }
   ],
   "source": [
    "gru.groupby('NR_ZONA')[['NR_LATITUDE', 'NR_LONGITUDE']]"
   ]
  },
  {
   "cell_type": "code",
   "execution_count": null,
   "id": "281bba7b-5eb1-4dd2-be98-dc46a707a4a1",
   "metadata": {},
   "outputs": [],
   "source": [
    "%%time\n",
    "\n",
    "cor = 'blue'\n",
    "tam_bot = 3\n",
    "\n",
    "for row in gru.groupby('NR_ZONA')[['NR_LATITUDE', 'NR_LONGITUDE']].mean().reset_index().itertuples():\n",
    "    icon_circle = BeautifyIcon(icon_shape='circle-dot', border_color=cor, border_width=tam_bot)\n",
    "    folium.Marker(location = [row.NR_LATITUDE, row.NR_LONGITUDE], popup = '{}'.format(row.NR_ZONA), tooltip = 'ZONA: {}'.format(row.NR_ZONA), icon = icon_circle, fill = True, fillcolor = cor, color = cor, fill_opacity=1).add_to(mapa)\n",
    "    \n"
   ]
  },
  {
   "cell_type": "code",
   "execution_count": null,
   "id": "02af8791-69f0-4832-a469-ee81b8ac9167",
   "metadata": {},
   "outputs": [],
   "source": [
    "mapa"
   ]
  },
  {
   "cell_type": "code",
   "execution_count": null,
   "id": "4daf736b-f744-46bc-9dba-925ce11c82e2",
   "metadata": {},
   "outputs": [],
   "source": [
    "%%time\n",
    "\n",
    "cor = 'blue'\n",
    "tam_bot = 3\n",
    "\n",
    "for row in gru.itertuples():\n",
    "    icon_circle = BeautifyIcon(icon_shape='circle-dot', border_color=cor, border_width=tam_bot)\n",
    "    folium.Marker(location = [row.NR_LATITUDE, row.NR_LONGITUDE], popup = '{}'.format(row.NR_ZONA), tooltip = 'ZONA: {} SEÇÃO: {} BAIRRO: {}'.format(row.NR_ZONA, row.NR_SECAO, row.NM_BAIRRO), icon = icon_circle, fill = True, fillcolor = cor, color = cor, fill_opacity=1).add_to(mapa)\n",
    "    "
   ]
  },
  {
   "cell_type": "code",
   "execution_count": null,
   "id": "74d5df92-28fc-42c9-b211-68d5bb697a02",
   "metadata": {},
   "outputs": [],
   "source": [
    "mapa"
   ]
  },
  {
   "cell_type": "code",
   "execution_count": null,
   "id": "4d8ba6d3-d1c1-4220-89d3-9f8df78631f6",
   "metadata": {},
   "outputs": [],
   "source": [
    "voto = pd.read_csv(os.path.join(dir_tse, 'votacao_partido_munzona_2024_SP.csv'), sep=';', encoding='latin1') "
   ]
  },
  {
   "cell_type": "code",
   "execution_count": null,
   "id": "c6299496-1def-4bb2-9b54-1b642c8eb9e0",
   "metadata": {},
   "outputs": [],
   "source": [
    "voto.info()"
   ]
  },
  {
   "cell_type": "code",
   "execution_count": null,
   "id": "fa86557c-97be-4d15-baa2-72e133923196",
   "metadata": {},
   "outputs": [],
   "source": [
    "voto_gru = voto.query(\"SG_UF == 'SP' and NM_MUNICIPIO == 'GUARULHOS'\")"
   ]
  },
  {
   "cell_type": "code",
   "execution_count": null,
   "id": "2d01114e-975c-4d5f-866a-24be306e65cb",
   "metadata": {},
   "outputs": [],
   "source": [
    "voto_gru.info()"
   ]
  },
  {
   "cell_type": "code",
   "execution_count": null,
   "id": "e3f817d2-93ca-4a97-8a2f-3f4224fae1d0",
   "metadata": {},
   "outputs": [],
   "source": [
    "voto_gru.head()"
   ]
  },
  {
   "cell_type": "code",
   "execution_count": null,
   "id": "322e12fd-efdb-4e94-9172-f471d8e08f1a",
   "metadata": {},
   "outputs": [],
   "source": [
    "voto_gru.groupby('DS_CARGO').DS_CARGO.count()"
   ]
  },
  {
   "cell_type": "code",
   "execution_count": null,
   "id": "75cc1c97-568c-41fb-81db-3536801f7fed",
   "metadata": {},
   "outputs": [],
   "source": [
    "voto_gru.query(\"DS_CARGO == 'Prefeito'\").iloc[0]"
   ]
  },
  {
   "cell_type": "code",
   "execution_count": null,
   "id": "a7a89976-08a5-4f6d-9894-34e5bd4f23ca",
   "metadata": {},
   "outputs": [],
   "source": [
    "voto_gru.query(\"DS_CARGO == 'Prefeito'\").groupby('NR_PARTIDO')['QT_VOTOS_NOMINAIS_VALIDOS'].sum()"
   ]
  },
  {
   "cell_type": "code",
   "execution_count": null,
   "id": "6759418a-f521-41b2-bf5d-431e0f73ac44",
   "metadata": {},
   "outputs": [],
   "source": []
  },
  {
   "cell_type": "code",
   "execution_count": null,
   "id": "e512e891-2ee1-419c-bfdc-8e9a10226a9d",
   "metadata": {},
   "outputs": [],
   "source": [
    "%%time\n",
    "\n",
    "dir_tse = 'D:/dabase_loads/tse_raw'\n",
    "local = pd.read_csv(os.path.join(dir_tse, 'eleitorado_local_votacao_2024.csv'), sep=';', encoding='latin1') \n",
    "local.columns = local.columns.str.lower()\n",
    "voto = pd.read_csv(os.path.join(dir_tse, 'votacao_partido_munzona_2024_SP.csv'), sep=';', encoding='latin1') \n",
    "voto.columns = voto.columns.str.lower()\n",
    "\n",
    "con = duckdb.connect('d:/db/sdceti03.duckdb')\n",
    "con.sql('create table tse.local as select * from local')\n",
    "con.sql('create table tse.voto as select * from voto')"
   ]
  },
  {
   "cell_type": "code",
   "execution_count": null,
   "id": "a787357d-93cd-4a24-b154-5c103b2178b7",
   "metadata": {},
   "outputs": [],
   "source": [
    "del con"
   ]
  },
  {
   "cell_type": "code",
   "execution_count": null,
   "id": "d736424c-cb79-474d-819b-4236eec73793",
   "metadata": {},
   "outputs": [],
   "source": []
  }
 ],
 "metadata": {
  "kernelspec": {
   "display_name": "Python 3 (ipykernel)",
   "language": "python",
   "name": "python3"
  },
  "language_info": {
   "codemirror_mode": {
    "name": "ipython",
    "version": 3
   },
   "file_extension": ".py",
   "mimetype": "text/x-python",
   "name": "python",
   "nbconvert_exporter": "python",
   "pygments_lexer": "ipython3",
   "version": "3.12.2"
  }
 },
 "nbformat": 4,
 "nbformat_minor": 5
}
