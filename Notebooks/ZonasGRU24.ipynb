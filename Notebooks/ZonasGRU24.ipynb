{
 "cells": [
  {
   "cell_type": "markdown",
   "id": "18bb0062-49ef-4099-bea7-5c2e011e8420",
   "metadata": {},
   "source": [
    "<div style=\"color: rgba(14, 90, 132, 1); vertical-align:middle; text-align: center; font-family: Montserrat;\">\n",
    "    <div style=\"font-size: 40px; font-weight: bold;\">\n",
    "        Análise Eleições Guarulhos - 1º Turno\n",
    "    </div>\n",
    "    <img src=\"https://solaris-mh8n.onrender.com/static/img/logo_solaris3.png\" align=\"middle\" width=\"30%\" height=\"30%\"/>\n",
    "    <div style=\"font-size: 20px; font-style: italic; font-family: Montserrat;\">\n",
    "        SOLARIS SISTEMAS <br /> - SS -\n",
    "    </div>\n",
    "</div>"
   ]
  },
  {
   "cell_type": "code",
   "execution_count": 1,
   "id": "1b19b0fa-4c90-4a3b-a762-c89aea7839fd",
   "metadata": {},
   "outputs": [],
   "source": [
    "import pandas as pd\n",
    "import warnings\n",
    "import os\n",
    "import plotly.graph_objects as go\n",
    "import folium\n",
    "import json\n",
    "import duckdb\n",
    "\n",
    "from branca.element import Template, MacroElement\n",
    "from folium.plugins import Draw, BeautifyIcon, MiniMap, MarkerCluster, TimestampedGeoJson, Geocoder\n",
    "from folium.features import DivIcon\n",
    "from sqlalchemy import create_engine, text\n",
    "\n",
    "warnings.filterwarnings(\"ignore\")"
   ]
  },
  {
   "cell_type": "code",
   "execution_count": 2,
   "id": "79c296c9-8008-484a-8544-559835b4f6d8",
   "metadata": {},
   "outputs": [],
   "source": [
    "path_db = 'D:/db/sdceti03.duckdb'"
   ]
  },
  {
   "cell_type": "code",
   "execution_count": null,
   "id": "7fb71e4e-117b-4400-ab3e-30d84e5f2cc7",
   "metadata": {},
   "outputs": [],
   "source": [
    "q_partido = \"\"\"\n",
    "        with v as (SELECT v.sg_partido AS partido, sum(v.qt_votos_nominais_validos) AS total\n",
    "          FROM tse.voto v \n",
    "         WHERE v.cd_municipio = 64777 \n",
    "           AND v.cd_cargo = 11 \n",
    "         GROUP BY v.sg_partido)\n",
    "         select \n",
    "         v.partido,\n",
    "         v.total,\n",
    "         CASE v.partido \n",
    "                WHEN  'PL' THEN 'green' \n",
    "        \t\tWHEN  'PT' THEN 'red'\n",
    "        \t\tWHEN  'PSB' THEN 'yellow'\n",
    "        \t\tWHEN  'REPUBLICANOS' THEN 'blue'\n",
    "        \t\tWHEN  'SOLIDARIEDADE' THEN 'orange'\n",
    "        \t\tWHEN  'PDT' THEN 'white'\n",
    "        \t\tELSE 'black'\n",
    "        \t   END AS color \n",
    "               from v\n",
    "               order by v.total desc;\n",
    "\"\"\""
   ]
  },
  {
   "cell_type": "code",
   "execution_count": null,
   "id": "c34e89cd-4751-45ef-8418-58d16d2fe6c5",
   "metadata": {},
   "outputs": [],
   "source": [
    "q_mapa = \"\"\"\n",
    "        WITH l AS (SELECT DISTINCT l.nr_zona, l.nm_bairro AS bairro, l.nr_latitude AS lat, l.nr_longitude AS lon \n",
    "                     FROM tse.local l \n",
    "                    WHERE l.cd_municipio = 64777 \n",
    "                      AND l.nr_latitude <> -1\n",
    "                    ORDER BY 1, l.nr_longitude),\n",
    "             v AS (SELECT v.sg_partido AS partido, v.nr_zona, sum(v.qt_votos_nominais_validos) AS total\n",
    "                     FROM tse.voto v \n",
    "                    WHERE v.cd_municipio = 64777 \n",
    "                      AND v.cd_cargo = 11 \n",
    "                    GROUP BY v.sg_partido, v.nr_zona)\n",
    "        SELECT v.partido, \n",
    "               v.total, \n",
    "               l.bairro, \n",
    "               l.lon, \n",
    "               l.lat, \n",
    "               l.nr_zona as zona,\n",
    "               CASE v.partido \n",
    "                WHEN  'PL' THEN 'green' \n",
    "        \t\tWHEN  'PT' THEN 'red'\n",
    "        \t\tWHEN  'PSB' THEN 'yellow'\n",
    "        \t\tWHEN  'REPUBLICANOS' THEN 'blue'\n",
    "        \t\tWHEN  'SOLIDARIEDADE' THEN 'orange'\n",
    "        \t\tWHEN  'PDT' THEN 'white'\n",
    "        \t\tELSE 'black'\n",
    "        \t   END AS color \n",
    "           FROM l INNER JOIN v ON (l.nr_zona = v.nr_zona);\n",
    "\"\"\""
   ]
  },
  {
   "cell_type": "code",
   "execution_count": null,
   "id": "8e4d53b8-fd10-4b64-a405-690250c17801",
   "metadata": {},
   "outputs": [],
   "source": [
    "q_mapa2 = \"\"\"\n",
    "WITH l AS (SELECT l.nr_zona AS zona, l.nm_bairro AS bairro, l.nr_latitude AS lat, l.nr_longitude AS lon \n",
    "                     FROM tse.local l \n",
    "                    WHERE l.cd_municipio = 64777 \n",
    "                      AND l.nr_latitude <> -1\n",
    "                    ORDER BY 1, l.nr_longitude),\n",
    "     l1 AS (SELECT zona, avg(lat) AS lat, avg(lon) AS lon FROM l GROUP BY zona),\n",
    "     v AS (SELECT v.sg_partido AS partido, v.nr_zona AS zona, sum(v.qt_votos_nominais_validos) AS total\n",
    "             FROM tse.voto v \n",
    "            WHERE v.cd_municipio = 64777 \n",
    "              AND v.cd_cargo = 11 \n",
    "            GROUP BY v.sg_partido, v.nr_zona),\n",
    "     geom_partido AS (SELECT 'PL' AS partido, .006 AS fator UNION ALL\n",
    "                      SELECT 'PT',            .005 UNION ALL\n",
    "        \t\t      SELECT 'PSB',           .004 UNION ALL\n",
    "        \t\t      SELECT 'REPUBLICANOS',  .003 UNION ALL\n",
    "        \t\t      SELECT 'SOLIDARIEDADE', .002 UNION ALL\n",
    "        \t\t      SELECT 'PDT',           .001),\n",
    "     t AS (SELECT v.partido, \n",
    "                  v.total,  \n",
    "                  (SELECT l1.lon FROM l1 WHERE l1.zona = v.zona) AS lon, \n",
    "                  (SELECT l1.lat FROM l1 WHERE l1.zona = v.zona) AS lat, \n",
    "                  v.zona,\n",
    "                  CASE v.partido \n",
    "                    WHEN 'PL' THEN 'green' \n",
    "        \t\t    WHEN 'PT' THEN 'red'\n",
    "        \t\t    WHEN 'PSB' THEN 'yellow'\n",
    "        \t\t    WHEN 'REPUBLICANOS' THEN 'blue'\n",
    "        \t\t    WHEN 'SOLIDARIEDADE' THEN 'orange'\n",
    "        \t\t    WHEN 'PDT' THEN 'white'\n",
    "        \t\tELSE 'black'\n",
    "        \t   END AS color \n",
    "           FROM v)\n",
    "SELECT t.partido, t.total, (t.lon+gp.fator) AS lon, (t.lat+gp.fator) AS lat, t.zona, t.color FROM t INNER JOIN geom_partido gp ON (t.partido = gp.partido);\n",
    "\"\"\""
   ]
  },
  {
   "cell_type": "code",
   "execution_count": null,
   "id": "b063040a-573f-4af8-ae16-ec2360b40a5a",
   "metadata": {},
   "outputs": [],
   "source": [
    "con = duckdb.connect(database=\"D:/db/sdceti03.duckdb\", read_only=True)\n",
    "try:    \n",
    "    gru = con.sql(q_mapa2).df()\n",
    "except Exception as e:\n",
    "    print(e)\n",
    "finally:\n",
    "    con.close()\n",
    "gru['lat'] = gru['lat'].astype(float)\n",
    "gru['lon'] = gru['lon'].astype(float)\n",
    "gru.head()"
   ]
  },
  {
   "cell_type": "code",
   "execution_count": null,
   "id": "15b76c73-d179-48b5-a64a-13ecea884f3d",
   "metadata": {},
   "outputs": [],
   "source": [
    "x = frequency(gru.total.to_list(), [5,15,25,35,50])\n",
    "x"
   ]
  },
  {
   "cell_type": "code",
   "execution_count": null,
   "id": "7d976edb-a57b-4114-ac93-57a9703b8f2f",
   "metadata": {},
   "outputs": [],
   "source": [
    "gru.total.describe()"
   ]
  },
  {
   "cell_type": "code",
   "execution_count": null,
   "id": "8260a7cb-5a64-4e71-8413-19e73c73b3ae",
   "metadata": {},
   "outputs": [],
   "source": [
    "def get_radius(freq):\n",
    "    if freq < 1000:\n",
    "        return 5\n",
    "    elif freq >= 1000 and freq < 10000:\n",
    "        return 10\n",
    "    elif freq >= 10000 and freq < 20000:\n",
    "        return 15\n",
    "    elif  freq >= 20000 and freq < 30000:\n",
    "        return 20\n",
    "    elif freq >= 30000 and freq < 40000:\n",
    "        return 25\n",
    "    elif freq >= 40000 and freq < 30000:\n",
    "        return 35\n",
    "    else:\n",
    "        return 50"
   ]
  },
  {
   "cell_type": "code",
   "execution_count": null,
   "id": "e48ef968-b548-4a1d-ba95-6a4d05d1960b",
   "metadata": {},
   "outputs": [],
   "source": [
    "gru['radius'] = gru.total.apply(lambda x: get_radius(x))"
   ]
  },
  {
   "cell_type": "code",
   "execution_count": null,
   "id": "84bc0418-5dcb-4c23-9514-3cef7ea5260c",
   "metadata": {},
   "outputs": [],
   "source": [
    "gru"
   ]
  },
  {
   "cell_type": "code",
   "execution_count": null,
   "id": "ef5a6b68-780b-43fc-8429-c382751a00bc",
   "metadata": {},
   "outputs": [],
   "source": [
    "con = duckdb.connect(database=\"D:/db/sdceti03.duckdb\", read_only=True)\n",
    "try:    \n",
    "    p = con.sql(q_partido).df()\n",
    "except Exception as e:\n",
    "    print(e)\n",
    "finally:\n",
    "    con.close()\n",
    "p.head()"
   ]
  },
  {
   "cell_type": "code",
   "execution_count": null,
   "id": "eeedc8f1-a6a0-4cda-af1d-3e8889bcd88c",
   "metadata": {},
   "outputs": [],
   "source": [
    "#pd.crosstab(index=gru['partido'], columns='total')\n",
    "#gru.head(15)\n",
    "#gru.info()\n",
    "print(gru.total.min(), gru.total.max(), (gru.total.max()-gru.total.min()))"
   ]
  },
  {
   "cell_type": "code",
   "execution_count": null,
   "id": "9b28624e-9227-4793-a167-aeec922211fc",
   "metadata": {},
   "outputs": [],
   "source": [
    "title_html = '<h3 align=\"center\" style=\"font-size:30px;font-weight: bold;\">VOTAÇÃO em Guarulhos</h3>'\n",
    "mapa = folium.Map(location=[-23.397106352886972, -46.43988504955854], tiles=\"OpenStreetMap\", zoom_start=11, control_scale = True, scrollWheelZoom=True, dragging=True)\n",
    "mapa.get_root().html.add_child(folium.Element(title_html))"
   ]
  },
  {
   "cell_type": "code",
   "execution_count": null,
   "id": "85b3c9f7-0a41-47b1-8381-e9e949cbc71e",
   "metadata": {},
   "outputs": [],
   "source": [
    "# Camadas\n",
    "\n",
    "## Aeroporto\n",
    "f_aeroporto = 'C:\\\\py\\\\sdceti\\\\Geo\\\\GeoJson\\\\aeroporto_limite.geojson'\n",
    "aeroporto = json.load(open(f_aeroporto))\n",
    "style1 = {'fillColor': 'yellow', 'color': 'blue', 'weight': 1.0}\n",
    "folium.GeoJson(aeroporto, style_function=lambda x:style1).add_to(mapa)\n",
    "\n",
    "## Bairros\n",
    "f_bairros = 'C:\\\\py\\\\sdceti\\\\Geo\\\\GeoJson\\\\bairros_sem_aeroporto.geojson'\n",
    "bairros = json.load(open(f_bairros, encoding='utf8'))\n",
    "style2 =  {'color': 'black', 'weight': 2.0, 'fill_opacity': 0.3}\n",
    "folium.GeoJson(bairros, tooltip=folium.GeoJsonTooltip(fields=['BAIRRO1']), popup=folium.GeoJsonPopup(fields=['BAIRRO1']), style_function=lambda x:style2).add_to(mapa)"
   ]
  },
  {
   "cell_type": "code",
   "execution_count": null,
   "id": "281bba7b-5eb1-4dd2-be98-dc46a707a4a1",
   "metadata": {},
   "outputs": [],
   "source": [
    "%%time\n",
    "'''\n",
    "#tam_bot = 3\n",
    "#radius=float(data.iloc[i]['value'])*20000,\n",
    "for i, v in gru.iterrows():\n",
    "    #icon_circle = BeautifyIcon(icon_shape='circle-dot', border_color=v.color, border_width=v.total)\n",
    "    folium.Marker(location = [v['lat'], v['lon']], \n",
    "                  popup = 'Zona: {}, Partido: {}, Votação: {} '.format(v['zona'], v['partido'], v['total']), \n",
    "                  tooltip = 'Zona: {}, Partido: {}, Votação: {} '.format(v['zona'], v['partido'], v['total']), \n",
    "                  #icon = icon_circle, \n",
    "                  radius=float(v['total'])*20000,\n",
    "                  fill = True, \n",
    "                  fillcolor = v['color'], \n",
    "                  color = v['color'], \n",
    "                  fill_opacity=1).add_to(mapa)\n",
    "\n",
    "'''\n",
    "        \n",
    "for i,row in gru.iterrows():\n",
    "    #print(i,row)\n",
    "    folium.CircleMarker(\n",
    "      location=[row['lat'], row['lon']],\n",
    "      radius=row['radius'],\n",
    "      popup = 'Zona: {}, Partido: {}, Votação: {} '.format(row['zona'], row['partido'], row['total']), \n",
    "      tooltip = 'Zona: {}, Partido: {}, Votação: {} '.format(row['zona'], row['partido'], row['total']), \n",
    "      #color='crimson',\n",
    "      color=row['color'],\n",
    "      fill=True,\n",
    "      fill_color=row['color']\n",
    "    ).add_to(mapa)\n"
   ]
  },
  {
   "cell_type": "code",
   "execution_count": null,
   "id": "02af8791-69f0-4832-a469-ee81b8ac9167",
   "metadata": {},
   "outputs": [],
   "source": [
    "template = \"\"\"\n",
    "{% macro html(this, kwargs) %}\n",
    "\n",
    "<!doctype html>\n",
    "<html lang=\"pt-br\">\n",
    "<head>\n",
    "  <meta charset=\"utf-8\">\n",
    "  <meta name=\"viewport\" content=\"width=device-width, initial-scale=1\">\n",
    "  <title>Destaque Industrial em Guarulhos</title>\n",
    "  <link rel=\"stylesheet\" href=\"//code.jquery.com/ui/1.12.1/themes/base/jquery-ui.css\">\n",
    "\n",
    "  <script src=\"https://code.jquery.com/jquery-1.12.4.js\"></script>\n",
    "  <script src=\"https://code.jquery.com/ui/1.12.1/jquery-ui.js\"></script>\n",
    "  \n",
    "  <script>\n",
    "  $( function() {\n",
    "    $( \"#maplegend\" ).draggable({\n",
    "                    start: function (event, ui) {\n",
    "                        $(this).css({\n",
    "                            right: \"auto\",\n",
    "                            top: \"auto\",\n",
    "                            bottom: \"auto\"\n",
    "                        });\n",
    "                    }\n",
    "                });\n",
    "});\n",
    "\n",
    "  </script>\n",
    "</head>\n",
    "<body>\n",
    "\n",
    "<div id='maplegend' class='maplegend' style='position: absolute; z-index:9999; border:2px solid grey; background-color:rgba(255, 255, 255, 0.8);\n",
    "     border-radius:6px; padding: 10px; font-size:14px; right: 20px; bottom: 20px;'>\n",
    "     \n",
    "<div class='legend-title'>Partidos</div>\n",
    "<div class='legend-scale'>\n",
    "  <ul class='legend-labels'>\n",
    "  \"\"\"\n",
    "\n",
    "for i, v in p.iterrows():\n",
    "    template += \"    <li><span style='background:{};'></span>{}-{}</li>\".format(v['color'], v['partido'], v['total'])\n",
    "    \n",
    "template += \"\"\"\n",
    "  </ul>\n",
    "</div>\n",
    "</div>\n",
    " \n",
    "</body>\n",
    "</html>\n",
    "\n",
    "<style type='text/css'>\n",
    "  .maplegend .legend-title {\n",
    "    text-align: left;\n",
    "    margin-bottom: 5px;\n",
    "    font-weight: bold;\n",
    "    font-size: 90%;\n",
    "    }\n",
    "  .maplegend .legend-scale ul {\n",
    "    margin: 0;\n",
    "    margin-bottom: 5px;\n",
    "    padding: 0;\n",
    "    float: left;\n",
    "    list-style: none;\n",
    "    }\n",
    "  .maplegend .legend-scale ul li {\n",
    "    font-size: 80%;\n",
    "    list-style: none;\n",
    "    margin-left: 0;\n",
    "    line-height: 18px;\n",
    "    margin-bottom: 2px;\n",
    "    }\n",
    "  .maplegend ul.legend-labels li span {\n",
    "    display: block;\n",
    "    float: left;\n",
    "    height: 16px;\n",
    "    width: 30px;\n",
    "    margin-right: 5px;\n",
    "    margin-left: 0;\n",
    "    border: 1px solid #999;\n",
    "    }\n",
    "  .maplegend .legend-source {\n",
    "    font-size: 80%;\n",
    "    color: #777;\n",
    "    clear: both;\n",
    "    }\n",
    "  .maplegend a {\n",
    "    color: #777;\n",
    "    }\n",
    "</style>\n",
    "{% endmacro %}\"\"\"\n",
    "\n",
    "macro = MacroElement()\n",
    "macro._template = Template(template)"
   ]
  },
  {
   "cell_type": "code",
   "execution_count": null,
   "id": "70bff1a3-3726-4955-8030-36702505830a",
   "metadata": {},
   "outputs": [],
   "source": [
    "mapa.get_root().add_child(macro)"
   ]
  },
  {
   "cell_type": "code",
   "execution_count": null,
   "id": "78185342-8111-42f0-8658-99d9a7971720",
   "metadata": {},
   "outputs": [],
   "source": [
    "mapa.save(\"I:/SDCETI03/INTELIGENCIADADOS/TiozinhoMapero/tse/1_turno_2024.html\")"
   ]
  },
  {
   "cell_type": "code",
   "execution_count": null,
   "id": "4daf736b-f744-46bc-9dba-925ce11c82e2",
   "metadata": {},
   "outputs": [],
   "source": [
    "%%time\n",
    "\n",
    "cor = 'blue'\n",
    "tam_bot = 3\n",
    "\n",
    "for row in gru.itertuples():\n",
    "    icon_circle = BeautifyIcon(icon_shape='circle-dot', border_color=cor, border_width=tam_bot)\n",
    "    folium.Marker(location = [row.NR_LATITUDE, row.NR_LONGITUDE], popup = '{}'.format(row.NR_ZONA), tooltip = 'ZONA: {} SEÇÃO: {} BAIRRO: {}'.format(row.NR_ZONA, row.NR_SECAO, row.NM_BAIRRO), icon = icon_circle, fill = True, fillcolor = cor, color = cor, fill_opacity=1).add_to(mapa)\n",
    "    "
   ]
  },
  {
   "cell_type": "code",
   "execution_count": null,
   "id": "74d5df92-28fc-42c9-b211-68d5bb697a02",
   "metadata": {},
   "outputs": [],
   "source": [
    "mapa"
   ]
  },
  {
   "cell_type": "code",
   "execution_count": null,
   "id": "4d8ba6d3-d1c1-4220-89d3-9f8df78631f6",
   "metadata": {},
   "outputs": [],
   "source": [
    "voto = pd.read_csv(os.path.join(dir_tse, 'votacao_partido_munzona_2024_SP.csv'), sep=';', encoding='latin1') "
   ]
  },
  {
   "cell_type": "code",
   "execution_count": null,
   "id": "c6299496-1def-4bb2-9b54-1b642c8eb9e0",
   "metadata": {},
   "outputs": [],
   "source": [
    "voto.info()"
   ]
  },
  {
   "cell_type": "code",
   "execution_count": null,
   "id": "fa86557c-97be-4d15-baa2-72e133923196",
   "metadata": {},
   "outputs": [],
   "source": [
    "voto_gru = voto.query(\"SG_UF == 'SP' and NM_MUNICIPIO == 'GUARULHOS'\")"
   ]
  },
  {
   "cell_type": "code",
   "execution_count": null,
   "id": "2d01114e-975c-4d5f-866a-24be306e65cb",
   "metadata": {},
   "outputs": [],
   "source": [
    "voto_gru.info()"
   ]
  },
  {
   "cell_type": "code",
   "execution_count": null,
   "id": "e3f817d2-93ca-4a97-8a2f-3f4224fae1d0",
   "metadata": {},
   "outputs": [],
   "source": [
    "voto_gru.head()"
   ]
  },
  {
   "cell_type": "code",
   "execution_count": null,
   "id": "322e12fd-efdb-4e94-9172-f471d8e08f1a",
   "metadata": {},
   "outputs": [],
   "source": [
    "voto_gru.groupby('DS_CARGO').DS_CARGO.count()"
   ]
  },
  {
   "cell_type": "code",
   "execution_count": null,
   "id": "75cc1c97-568c-41fb-81db-3536801f7fed",
   "metadata": {},
   "outputs": [],
   "source": [
    "voto_gru.query(\"DS_CARGO == 'Prefeito'\").iloc[0]"
   ]
  },
  {
   "cell_type": "code",
   "execution_count": null,
   "id": "a7a89976-08a5-4f6d-9894-34e5bd4f23ca",
   "metadata": {},
   "outputs": [],
   "source": [
    "voto_gru.query(\"DS_CARGO == 'Prefeito'\").groupby('NR_PARTIDO')['QT_VOTOS_NOMINAIS_VALIDOS'].sum()"
   ]
  },
  {
   "cell_type": "code",
   "execution_count": null,
   "id": "6759418a-f521-41b2-bf5d-431e0f73ac44",
   "metadata": {},
   "outputs": [],
   "source": []
  },
  {
   "cell_type": "code",
   "execution_count": null,
   "id": "e512e891-2ee1-419c-bfdc-8e9a10226a9d",
   "metadata": {},
   "outputs": [],
   "source": [
    "%%time\n",
    "\n",
    "dir_tse = 'D:/dabase_loads/tse_raw'\n",
    "local = pd.read_csv(os.path.join(dir_tse, 'eleitorado_local_votacao_2024.csv'), sep=';', encoding='latin1') \n",
    "local.columns = local.columns.str.lower()\n",
    "voto = pd.read_csv(os.path.join(dir_tse, 'votacao_partido_munzona_2024_SP.csv'), sep=';', encoding='latin1') \n",
    "voto.columns = voto.columns.str.lower()\n",
    "\n",
    "con = duckdb.connect('d:/db/sdceti03.duckdb')\n",
    "con.sql('create table tse.local as select * from local')\n",
    "con.sql('create table tse.voto as select * from voto')"
   ]
  },
  {
   "cell_type": "code",
   "execution_count": null,
   "id": "a787357d-93cd-4a24-b154-5c103b2178b7",
   "metadata": {},
   "outputs": [],
   "source": [
    "del con"
   ]
  },
  {
   "cell_type": "code",
   "execution_count": null,
   "id": "8872f567-7318-474d-a687-543fdc53661d",
   "metadata": {},
   "outputs": [],
   "source": [
    "dir_tse = 'D:/dabase_loads/tse_raw'\n",
    "votcan = pd.read_csv(os.path.join(dir_tse, 'votacao_candidato_munzona_2024_SP.csv'), sep=';', encoding='latin1') \n",
    "votcan.columns = votcan.columns.str.lower() \n",
    "votcan.head()"
   ]
  },
  {
   "cell_type": "code",
   "execution_count": null,
   "id": "cd07d632-8940-4ef3-b398-f3225f549966",
   "metadata": {},
   "outputs": [],
   "source": [
    "con = duckdb.connect('d:/db/sdceti03.duckdb')\n",
    "con.sql('create table tse.votcan as select * from votcan')\n",
    "con.close()"
   ]
  },
  {
   "cell_type": "code",
   "execution_count": null,
   "id": "d736424c-cb79-474d-819b-4236eec73793",
   "metadata": {},
   "outputs": [],
   "source": [
    "%%time\n",
    "\n",
    "dir_tse = 'D:/dabase_loads/tse_raw'\n",
    "local = pd.read_csv(os.path.join(dir_tse, 'detalhe_votacao_secao_2024_SP.csv'), sep=';', encoding='latin1') \n",
    "local.columns = local.columns.str.lower()\n",
    "voto = pd.read_csv(os.path.join(dir_tse, 'votacao_partido_munzona_2024_SP.csv'), sep=';', encoding='latin1') \n",
    "voto.columns = voto.columns.str.lower()\n",
    "\n",
    "con = duckdb.connect('d:/db/sdceti03.duckdb')\n",
    "con.sql('create table tse.local as select * from local')\n",
    "con.sql('create table tse.voto as select * from voto')"
   ]
  }
 ],
 "metadata": {
  "kernelspec": {
   "display_name": "Python 3 (ipykernel)",
   "language": "python",
   "name": "python3"
  },
  "language_info": {
   "codemirror_mode": {
    "name": "ipython",
    "version": 3
   },
   "file_extension": ".py",
   "mimetype": "text/x-python",
   "name": "python",
   "nbconvert_exporter": "python",
   "pygments_lexer": "ipython3",
   "version": "3.12.2"
  }
 },
 "nbformat": 4,
 "nbformat_minor": 5
}
